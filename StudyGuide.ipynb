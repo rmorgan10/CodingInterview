{
 "cells": [
  {
   "cell_type": "markdown",
   "metadata": {},
   "source": [
    "# Programming Interview Study Guide"
   ]
  },
  {
   "cell_type": "markdown",
   "metadata": {},
   "source": [
    "## Linear Data Structures\n",
    "\n",
    "### Arrays\n",
    "\n",
    "- holds the same kind of data under one name\n",
    "- stores each element in a continuous block which can be accessed using its index\n",
    "\n",
    "**Lookup:** O(1)\n",
    "\n",
    "**Search:** O(N), O(log(N)) with binary search if sorted\n",
    "\n",
    "**Insertion:** O(N) since all / most elements have to be shifted to the right by 1\n",
    "\n",
    "**Deletion:** O(N) since all / most elements have to be shifted to the left by 1\n"
   ]
  },
  {
   "cell_type": "markdown",
   "metadata": {},
   "source": [
    "![](https://www.thedshandbook.com/wp-content/uploads/2019/09/oned_array.svg)"
   ]
  },
  {
   "cell_type": "code",
   "execution_count": 1,
   "metadata": {},
   "outputs": [],
   "source": [
    "import array"
   ]
  },
  {
   "cell_type": "code",
   "execution_count": 2,
   "metadata": {},
   "outputs": [
    {
     "data": {
      "text/plain": [
       "'bBuhHiIlLqQfd'"
      ]
     },
     "execution_count": 2,
     "metadata": {},
     "output_type": "execute_result"
    }
   ],
   "source": [
    "array.typecodes"
   ]
  },
  {
   "cell_type": "markdown",
   "metadata": {},
   "source": [
    "| Typecode |\tValue |\n",
    "| --- | --- |\n",
    "|b |\tRepresents signed integer of size 1 byte |\n",
    "|B |\tRepresents unsigned integer of size 1 byte|\n",
    "|c |\tRepresents character of size 1 byte|\n",
    "|i |\tRepresents signed integer of size 2 bytes|\n",
    "|I |\tRepresents unsigned integer of size 2 bytes|\n",
    "|f |\tRepresents floating point of size 4 bytes|\n",
    "|d |\tRepresents floating point of size 8 bytes|"
   ]
  },
  {
   "cell_type": "code",
   "execution_count": 3,
   "metadata": {},
   "outputs": [],
   "source": [
    "int_array = array.array('i', [1, 2, 3, 4, 5])"
   ]
  },
  {
   "cell_type": "markdown",
   "metadata": {},
   "source": [
    "An ordinary list is probably fine too"
   ]
  },
  {
   "cell_type": "markdown",
   "metadata": {},
   "source": [
    "### Linked Lists\n",
    "\n",
    "- each element is a separate object, known as a node\n",
    "- each node contains some data and points to the next node in the structure, forming a sequence\n",
    "- the nodes may be at different memory locations, unlike arrays where all the elements are stored continuously\n",
    "\n",
    "**Advantages over Arrays:**\n",
    "\n",
    "- Not fixed in size\n",
    "- Insertion and Deletion are O(1), only need to update the links of the neighbors\n",
    "\n",
    "**Disadvantages over Arrays:**\n",
    "\n",
    "- Only sequential access to elements (no index lookup)\n",
    "- Each node requires additional memory to store value and link\n"
   ]
  },
  {
   "cell_type": "markdown",
   "metadata": {},
   "source": [
    "![](https://upload.wikimedia.org/wikipedia/commons/6/6d/Singly-linked-list.svg)"
   ]
  },
  {
   "cell_type": "code",
   "execution_count": 4,
   "metadata": {},
   "outputs": [],
   "source": [
    "class Node:\n",
    "    def __init__(self, val=None):\n",
    "        self.val = val\n",
    "        self.next = None\n",
    "        \n",
    "    def __str__(self):\n",
    "        return str(self.val)\n",
    "            \n",
    "class SinglyLinkedList:\n",
    "    def __init__(self, head_val):\n",
    "        self.head = Node(head_val)\n",
    "        return\n",
    "    \n",
    "    def insert(self, new_val, prev_node=None):\n",
    "        if prev_node is None:\n",
    "            # insert after head\n",
    "            prev_node = self.head\n",
    "        new_node = Node(new_val)\n",
    "        new_node.next, prev_node.next = prev_node.next, new_node\n",
    "        \n",
    "\n",
    "class DoublyLinkedList:\n",
    "    def __init__(self, head_val):\n",
    "        self.head = Node(head_val)\n",
    "        self.head.prev = None\n",
    "        \n",
    "    def insert(self, new_val, prev_node=None):\n",
    "        if prev_node is None:\n",
    "            prev_node = self.head\n",
    "        new_node = Node(new_val)\n",
    "        new_node.next = prev_node.next\n",
    "        prev_node.next = new_node\n",
    "        new_node.prev = prev_node\n",
    "        \n",
    "    def lookup(self, key):\n",
    "        current = self.head\n",
    "        while current.key != key:\n",
    "            current = current.next\n",
    "            if current is None:\n",
    "                raise ValueError(f\"{val} not in list\")\n",
    "        else:\n",
    "            return current\n",
    "        \n",
    "    def delete(self, node_to_delete):\n",
    "        node_to_delete.prev.next = node_to_delete.next\n",
    "        node_to_delete.next.prev = node_to_delete.prev\n",
    "        del node_to_delete\n",
    "    \n",
    "class CircularlSingllyLinkedList:\n",
    "    def __init__(self, head_val, val1):\n",
    "        self.head = Node(head_val)\n",
    "        node1 = Node(val1)\n",
    "        self.head.next = node1\n",
    "        node1.next = self.head\n",
    "        return\n",
    "    \n",
    "    def insert(self, prev_node, new_val):\n",
    "        new_node = Node(new_val)\n",
    "        new_node.next = prev_node.next\n",
    "        prev_node.next = new_node\n",
    "            \n",
    "            \n",
    "class CircularlDoublyLinkedList:\n",
    "    def __init__(self, head_val, val1):\n",
    "        self.head = Node(head_val)\n",
    "        node1 = Node(val1)\n",
    "        self.head.next = node1\n",
    "        node1.next = self.head\n",
    "        self.head.prev = node1\n",
    "        node1.prev = self.head\n",
    "        return\n",
    "    \n",
    "    def insert(self, prev_node, new_val):\n",
    "        new_node = Node(new_val)\n",
    "        new_node.next = prev_node.next\n",
    "        prev_node.next = new_node\n",
    "        new_node.next.prev = new_node\n",
    "        new_node.prev = prev_node\n"
   ]
  },
  {
   "cell_type": "markdown",
   "metadata": {},
   "source": [
    "### Stacks\n",
    "\n",
    "- store data in an order known as the Last In First Out (LIFO) order\n",
    "- should have the push, pop, and peek methods\n",
    "\n",
    "**Lookup:** O(1)\n",
    "\n",
    "**Search:** O(N), since only the top is accessible, binary search will not help\n",
    "\n",
    "**Insertion:** O(1) since you can only put it on top\n",
    "\n",
    "**Deletion:** O(1) since you can only delete from the top\n",
    "\n",
    "![](https://upload.wikimedia.org/wikipedia/commons/0/06/Stack_%28data_structure%29.svg)"
   ]
  },
  {
   "cell_type": "code",
   "execution_count": 5,
   "metadata": {},
   "outputs": [],
   "source": [
    "class Stack:\n",
    "    def __init__(self):\n",
    "        self.stack = []\n",
    "        \n",
    "    def push(self, item):\n",
    "        self.stack.insert(0, item)\n",
    "        \n",
    "    def pop(self):\n",
    "        return self.stack.pop(0)\n",
    "        \n",
    "    def peek(self):\n",
    "        return self.stack[0]"
   ]
  },
  {
   "cell_type": "markdown",
   "metadata": {},
   "source": [
    "### Queues\n",
    "\n",
    "- store data in an order known as the First In First Out (FIFO) order\n",
    "- should have enqueue and dequeue methods\n",
    "\n",
    "**Lookup:** O(1)\n",
    "\n",
    "**Search:** O(N), since only the front is accessible, binary search will not help\n",
    "\n",
    "**Insertion:** O(1) since you can only put it in the back\n",
    "\n",
    "**Deletion:** O(1) since you can only delete from the front\n",
    "\n",
    "![](https://upload.wikimedia.org/wikipedia/commons/5/52/Data_Queue.svg)"
   ]
  },
  {
   "cell_type": "code",
   "execution_count": 6,
   "metadata": {},
   "outputs": [],
   "source": [
    "class Queue:\n",
    "    def __init__(self):\n",
    "        self.queue = []\n",
    "        \n",
    "    def enqueue(self, item):\n",
    "        self.queue.insert(0, item)\n",
    "        \n",
    "    def dequeue(self):\n",
    "        return self.queue.pop()"
   ]
  },
  {
   "cell_type": "markdown",
   "metadata": {},
   "source": [
    "### Dequeue (Double-Ended Queue)\n",
    "\n",
    "A Queue where you can insert and pop on both ends. Python has an optimized SL implementation:"
   ]
  },
  {
   "cell_type": "code",
   "execution_count": 7,
   "metadata": {},
   "outputs": [],
   "source": [
    "from collections import deque"
   ]
  },
  {
   "cell_type": "markdown",
   "metadata": {},
   "source": [
    "## Nonlinear Data Structures\n",
    "\n",
    "### Binary Search Trees\n",
    "\n",
    "- follow the property left < current < right\n",
    "- lookup, insertion, and deletion O(height of tree)"
   ]
  },
  {
   "cell_type": "code",
   "execution_count": 8,
   "metadata": {},
   "outputs": [],
   "source": [
    "class BSNode:\n",
    "    def __init__(self, data):\n",
    "        self.parent = None\n",
    "        self.data = data\n",
    "        self.left = None\n",
    "        self.right = None\n",
    "        \n",
    "    def insert(self, new_data):\n",
    "        if new_data > self.data:\n",
    "            if self.right is not None:\n",
    "                self.right.insert(new_data)\n",
    "            else:\n",
    "                self.right = BSNode(new_data)\n",
    "                self.right.parent = self\n",
    "        elif new_data < self.data:\n",
    "            if self.left is not None:\n",
    "                self.left.insert(new_data)\n",
    "            else:\n",
    "                self.left = BSNode(new_data)\n",
    "                self.left.parent = self\n",
    "        else:\n",
    "            # =\n",
    "            pass  # Already in tree\n",
    "        \n",
    "    def find_in_order_successor(self):\n",
    "        current = self\n",
    "        while current.left is not None:\n",
    "            current = current.left\n",
    "        return current\n",
    "\n",
    "    def delete(self, node_to_delete):\n",
    "        # no children\n",
    "        if (node_to_delete.right is None and \n",
    "            node_to_delete.left is None):\n",
    "            if node_to_delete.data > node_to_delete.parent.data:\n",
    "                node_to_delete.parent.right = None\n",
    "            else:\n",
    "                node_to_delete.parent.left = None\n",
    "                \n",
    "            del node_to_delete\n",
    "                \n",
    "        # left child only\n",
    "        elif (node_to_delete.right is None and \n",
    "            node_to_delete.left is not None):\n",
    "            if node_to_delete.data > node_to_delete.parent.data:\n",
    "                node_to_delete.parent.right = node_to_delete.left\n",
    "                node_to_delete.left.parent = node_to_delete.parent\n",
    "            else:\n",
    "                node_to_delete.parent.left = node_to_delete.left\n",
    "                node_to_delete.left.parent = node_to_delete.parent\n",
    "                \n",
    "            del node_to_delete\n",
    "\n",
    "        # right child only\n",
    "        elif (node_to_delete.right is not None and \n",
    "            node_to_delete.left is None):\n",
    "            if node_to_delete.data > node_to_delete.parent.data:\n",
    "                node_to_delete.parent.right = node_to_delete.right\n",
    "                node_to_delete.right.parent = node_to_delete.parent\n",
    "            else:\n",
    "                node_to_delete.parent.left = node_to_delete.right\n",
    "                node_to_delete.right.parent = node_to_delete.parent\n",
    "                \n",
    "            del node_to_delete\n",
    "                \n",
    "        # two children\n",
    "        else:\n",
    "            successor = node_to_delete.find_in_order_successor()\n",
    "            node_to_delete.data = successor.data\n",
    "            self.delete(successor)\n",
    "        \n",
    "    \n",
    "    def lookup(self, data):\n",
    "        if data == self.data:\n",
    "            return self\n",
    "        elif data > self.data:\n",
    "            if self.right is not None:\n",
    "                return self.right.lookup(data)\n",
    "            else:\n",
    "                raise ValueError(f\"{data} not in tree\")\n",
    "        else:\n",
    "            if self.left is not None:\n",
    "                return self.left.lookup(data)\n",
    "            else:\n",
    "                raise ValueError(f\"{data} not in tree\")"
   ]
  },
  {
   "cell_type": "markdown",
   "metadata": {},
   "source": [
    "### N-ary trees\n",
    "\n",
    "- Trees where each node is allowed an arbitrary number of children\n",
    "- Wastful to link each child to the parent because the children are already linked\n",
    "- Technically this is a binary tree, so many algorithms become efficient\n",
    "\n",
    "![](https://media.geeksforgeeks.org/wp-content/uploads/20190612122325/generictree_gfg.png)"
   ]
  },
  {
   "cell_type": "code",
   "execution_count": 9,
   "metadata": {},
   "outputs": [],
   "source": [
    "class NaryNode:\n",
    "    def __init__(self, data):\n",
    "        self.data = data\n",
    "        self.first_child = None\n",
    "        self.next_sibling = None"
   ]
  },
  {
   "cell_type": "markdown",
   "metadata": {},
   "source": [
    "### Trie Trees\n",
    "\n",
    "Ordered, tree-like data structures used for information re**TRIE**val. Trie trees store key-value pairs, where each digit of the key corresponds to a node along the path to the value. Therefore, lookup, insertion, and deletion are all O(length of key).\n",
    "\n",
    "![](https://media.geeksforgeeks.org/wp-content/cdn-uploads/Trie.png)"
   ]
  },
  {
   "cell_type": "code",
   "execution_count": 10,
   "metadata": {},
   "outputs": [],
   "source": [
    "class TrieNode:\n",
    "    def __init__(self):\n",
    "        # restrict key contents to lowercase a-z\n",
    "        self.children = [None] * 26\n",
    "        \n",
    "class TrieTree:\n",
    "    def __init__(self):\n",
    "        self.root = TrieNode()\n",
    "        \n",
    "    @staticmethod\n",
    "    def char_to_idx(ch):\n",
    "        return ord(ch) - ord('a')\n",
    "    \n",
    "    def insert(self, key, value):\n",
    "        current = self.root\n",
    "        for k in key:\n",
    "            idx = self.char_to_idx(k)\n",
    "            if current.children[idx] is None:\n",
    "                current.children[idx] = TrieNode()\n",
    "            current = current.children[idx]\n",
    "        current.value = value\n",
    "        \n",
    "    def lookup(self, key):\n",
    "        current = self.root\n",
    "        for k in key:\n",
    "            idx = self.char_to_idx(k)\n",
    "            if current.children[idx] is None:\n",
    "                raise KeyError(f\"{key} is not in the trie\")\n",
    "            else:\n",
    "                current = current.children[idx]\n",
    "        try:\n",
    "            return current.value\n",
    "        except AttributeError:\n",
    "            raise KeyError(f\"{key} is not in the trie\")\n",
    "                \n",
    "    def delete(self, key):\n",
    "        current = self.root\n",
    "        for k in key:\n",
    "            idx = self.char_to_idx(k)\n",
    "            if current.children[idx] is None:\n",
    "                raise KeyError(f\"{key} is not in the trie\")\n",
    "            else:\n",
    "                current = current.children[idx]\n",
    "        try:\n",
    "            del current.value\n",
    "        except AttributeError:\n",
    "            raise KeyError(f\"{key} is not in the trie\")    "
   ]
  },
  {
   "cell_type": "code",
   "execution_count": 11,
   "metadata": {},
   "outputs": [],
   "source": [
    "keys = [\"the\",\"a\",\"there\",\"anaswe\",\"any\", \"by\",\"their\"] \n",
    "values = [1, 2, 3, 4, 5, 6, 7]\n",
    "\n",
    "trie = TrieTree()\n",
    "for k, v in zip(keys, values):\n",
    "    trie.insert(k, v)"
   ]
  },
  {
   "cell_type": "markdown",
   "metadata": {},
   "source": [
    "### Balanced Trees (AVL)\n",
    "\n",
    "A self-balancing binary search tree. Binary search trees can become skewed, allowing for O(N) operations instead of the optimal O(log(N)). By automatically reorganizing the tree after insertion and deletion, we can maintain efficient operations.\n",
    "\n",
    "- Define the **balance factor** for a node N\n",
    "\n",
    "$$bf(\\textrm{N}) = height(\\textrm{N.left}) - height(\\textrm{N.left})$$\n",
    "\n",
    "to indicate whether the tree is leaning more to the left or right at that node, and require that |$bf$| $\\leq$ 1 for all nodes.\n",
    "\n",
    "![](https://miro.medium.com/max/700/1*Ldm399IyqpefOeFHu8LuRg.png)\n",
    "\n",
    "There are four possible ways an AVL Tree can be unbalanced:\n",
    "\n",
    "1. **bf(root) = 2**: Indicates the tree is left heavy (also called left-left imbalance)\n",
    "1. **bf(root) = -2**: Indicates the tree is right heavy (right-right imbalance)\n",
    "1. **bf(root) = 2 & bf(root.left) < 0**: Indicates the tree is left heavy and the left child’s right subtree is taller than its left (left-right imbalance)\n",
    "1. **bf(root) = -2 & bf(root.right) > 0**: Indicates the tree is right heavy and the right child’s left subtree is taller than its right (right-left imbalance)"
   ]
  },
  {
   "cell_type": "code",
   "execution_count": 12,
   "metadata": {},
   "outputs": [],
   "source": [
    "class AVLNode:\n",
    "    def __init__(self, data, bf=0):\n",
    "        self.data = data\n",
    "        self.left = None\n",
    "        self.right = None\n",
    "        self.parent = None\n",
    "        self.bf = bf\n",
    "        self.height = 1\n",
    "        \n",
    "class AVLTree:\n",
    "    def __init__(self):\n",
    "        self.root = None\n",
    "        \n",
    "    def _get_height(self, root):\n",
    "        return 0 if root is None else root.height\n",
    "    \n",
    "    def _update_height_and_bf(self, root):\n",
    "        left_height = self._get_height(root.left)\n",
    "        right_height = self._get_height(root.right)\n",
    "        root.height = max(left_height, right_height) + 1\n",
    "        root.bf = left_height - right_height\n",
    "        \n",
    "    def insert(self, data):\n",
    "        self.root = self._insert(self.root, data)\n",
    "        \n",
    "    def _insert(self, root, data):\n",
    "        # Base case\n",
    "        if root is None:\n",
    "            return AVLNode(data)\n",
    "        \n",
    "        # Insert like a normal BST\n",
    "        if data < root.data:\n",
    "            root.left = self._insert(root.left, data)\n",
    "            root.left.parent = root\n",
    "        elif data > root.data:\n",
    "            root.right = self._insert(root.right, data)\n",
    "            root.right.parent = root\n",
    "        else:\n",
    "            return root\n",
    "        \n",
    "        # Update heights and balance factors\n",
    "        self._update_height_and_bf(root)\n",
    "        \n",
    "        # Rebalance (if necessary) and return\n",
    "        return self.rebalance(root)\n",
    "    \n",
    "    def find_in_order_successor(self, root):\n",
    "        current = root\n",
    "        while current.left is not None:\n",
    "            current = current.left\n",
    "        return current\n",
    "    \n",
    "    def lookup(self, data, root=None):\n",
    "        if root is None:\n",
    "            root = self.root\n",
    "               \n",
    "        if data > root.data:\n",
    "            if root.right is not None:\n",
    "                return self.lookup(data, root=root.right)\n",
    "            else:\n",
    "                raise ValueError(f\"{data} not in tree\")\n",
    "        elif data < root.data:\n",
    "            if root.left is not None:\n",
    "                return self.lookup(data, root=root.left)\n",
    "            else:\n",
    "                raise ValueError(f\"{data} not in tree\")\n",
    "        else:\n",
    "            return root  # Found\n",
    "    \n",
    "    def delete(self, data):\n",
    "        \"\"\"\n",
    "        Same as BST, but rebalance parent after deletion\n",
    "        \"\"\"\n",
    "        root = self.lookup(data)\n",
    "        self._delete(root)\n",
    "        \n",
    "    def _delete(self, node_to_delete):\n",
    "        # no children\n",
    "        if (node_to_delete.right is None and \n",
    "            node_to_delete.left is None):\n",
    "            if node_to_delete.data > node_to_delete.parent.data:\n",
    "                node_to_delete.parent.right = None\n",
    "            else:\n",
    "                node_to_delete.parent.left = None\n",
    "            \n",
    "            self.rebalance(node_to_delete.parent)\n",
    "            del node_to_delete\n",
    "                \n",
    "        # left child only\n",
    "        elif (node_to_delete.right is None and \n",
    "            node_to_delete.left is not None):\n",
    "            if node_to_delete.data > node_to_delete.parent.data:\n",
    "                node_to_delete.parent.right = node_to_delete.left\n",
    "                node_to_delete.left.parent = node_to_delete.parent\n",
    "            else:\n",
    "                node_to_delete.parent.left = node_to_delete.left\n",
    "                node_to_delete.left.parent = node_to_delete.parent\n",
    "                \n",
    "            self.rebalance(node_to_delete.parent)\n",
    "            del node_to_delete\n",
    "\n",
    "        # right child only\n",
    "        elif (node_to_delete.right is not None and \n",
    "            node_to_delete.left is None):\n",
    "            if node_to_delete.data > node_to_delete.parent.data:\n",
    "                node_to_delete.parent.right = node_to_delete.right\n",
    "                node_to_delete.right.parent = node_to_delete.parent\n",
    "            else:\n",
    "                node_to_delete.parent.left = node_to_delete.right\n",
    "                node_to_delete.right.parent = node_to_delete.parent\n",
    "                \n",
    "            self.rebalance(node_to_delete.parent)\n",
    "            del node_to_delete\n",
    "                \n",
    "        # two children\n",
    "        else:\n",
    "            successor = node_to_delete.find_in_order_successor()\n",
    "            node_to_delete.data = successor.data\n",
    "            self.delete(successor)\n",
    "            \n",
    "    \n",
    "    def rebalance(self, root):\n",
    "        if root.bf == 2:\n",
    "            if root.left.bf < 0:\n",
    "                root.left = self.rotate_left(root.left)\n",
    "            return self.rotate_right(root)\n",
    "        elif root.bf == -2:\n",
    "            if root.right.bf > 0:\n",
    "                root.right = self.rotate_right(root.right)\n",
    "            return self.rotate_left(root)  \n",
    "        else:\n",
    "            return root\n",
    "            \n",
    "    def rotate_right(self, root):\n",
    "        # Establish pivot\n",
    "        pivot = root.left\n",
    "        temp = pivot.right\n",
    "\n",
    "        # Rotate\n",
    "        pivot.right = root\n",
    "        pivot.parent = root.parent\n",
    "        root.parent = pivot\n",
    "\n",
    "        # Handle right child of pivot\n",
    "        root.left = temp\n",
    "        if temp is not None:\n",
    "            temp.parent = root\n",
    "\n",
    "        # Update the pivot's parent (if necessary)\n",
    "        if pivot.parent is not None:\n",
    "            if pivot.parent.left is root:\n",
    "                pivot.parent.left = pivot\n",
    "            else:\n",
    "                pivot.parent.right = pivot\n",
    "\n",
    "        # Update heights and balance factors\n",
    "        self._update_height_and_bf(root)\n",
    "        self._update_height_and_bf(pivot)\n",
    "\n",
    "        # Return root of the rotated tree\n",
    "        return pivot\n",
    "\n",
    "    def rotate_left(self, root):\n",
    "        # Establish pivot\n",
    "        pivot = root.right\n",
    "        temp = pivot.left\n",
    "\n",
    "        # Rotate\n",
    "        pivot.left = root\n",
    "        pivot.parent = root.parent\n",
    "        root.parent = pivot\n",
    "\n",
    "        # Handle left child of pivot\n",
    "        root.right = temp\n",
    "        if temp is not None:\n",
    "            temp.parent = root\n",
    "\n",
    "        # Update the pivot's parent (if necessary)\n",
    "        if pivot.parent is not None:\n",
    "            if pivot.parent.right is root:\n",
    "                pivot.parent.right = pivot\n",
    "            else:\n",
    "                pivot.parent.left = pivot\n",
    "\n",
    "        # Update heights and balance factors\n",
    "        self._update_height_and_bf(root)\n",
    "        self._update_height_and_bf(pivot)\n",
    "\n",
    "        # Return root of the rotated tree\n",
    "        return pivot"
   ]
  },
  {
   "cell_type": "code",
   "execution_count": 13,
   "metadata": {},
   "outputs": [],
   "source": [
    "def display_binary_tree(root, dtype='i'):\n",
    "    # Flatten tree data\n",
    "    out_list = [str(root.data) + ' ']\n",
    "    nodes_to_check = Queue()\n",
    "    nodes_to_check.enqueue(root)\n",
    "    while len(nodes_to_check.queue) != 0:\n",
    "        current_node = nodes_to_check.dequeue()\n",
    "        if current_node.left is not None:\n",
    "            nodes_to_check.enqueue(current_node.left)\n",
    "            out_list.append(str(current_node.left.data) +' ')\n",
    "        else:\n",
    "            out_list.append(\". \")\n",
    "            \n",
    "        if current_node.right is not None:\n",
    "            nodes_to_check.enqueue(current_node.right)\n",
    "            out_list.append(str(current_node.right.data) + ' ')\n",
    "        else:\n",
    "            out_list.append(\". \")\n",
    "    \n",
    "    # Display\n",
    "    out_str = \"\"\n",
    "    delim = \" \"\n",
    "    for idx in range(len(out_list)-1, -1, -1):\n",
    "        out_str = out_list[idx] + delim + out_str\n",
    "\n",
    "        n = idx +1\n",
    "        if (n & (n-1) == 0):  # True for powers of 2 and 0\n",
    "            out_str = '\\n' + delim  + out_str\n",
    "            delim = delim * 2\n",
    "    \n",
    "    print(out_str)"
   ]
  },
  {
   "cell_type": "markdown",
   "metadata": {},
   "source": [
    "### Min / Max Heaps\n",
    "\n",
    "A complete binary tree (not necessarily binary search tree) in which the value of the parent is greater / less than or equal to the value of the child.\n",
    "\n",
    "A heap is described in memory using linear arrays in a sequential manner.\n",
    "\n",
    "- **insertion** Always insert at last child and reheapify upward if necessary\n",
    "- **deletion** Always delete root, make last child root, and reheapify downward\n",
    "\n",
    "Heaps are the optimal data structures when looking for minima and maxima since these values are always contained in the root. The min / max lookup is always O(1).\n",
    "\n",
    "![](https://upload.wikimedia.org/wikipedia/commons/4/47/Binary_heap.svg)"
   ]
  },
  {
   "cell_type": "code",
   "execution_count": 14,
   "metadata": {},
   "outputs": [],
   "source": [
    "class MaxHeap:\n",
    "    def __init__(self):\n",
    "        self.items = [None]\n",
    "        \n",
    "    def heappush(self, data):\n",
    "        self.items.append(data)\n",
    "        self.reheapify_upward()\n",
    "        \n",
    "    def heappop(self):\n",
    "        item = self.items.pop(1)\n",
    "        self.reheapify_downward()\n",
    "        return item\n",
    "    \n",
    "    @staticmethod\n",
    "    def _find_parent(idx):\n",
    "        if idx % 2 == 0:\n",
    "            return int(idx / 2)\n",
    "        else:\n",
    "            return int((idx - 1) / 2) \n",
    "    \n",
    "    def reheapify_upward(self):\n",
    "        current = len(self.items) - 1\n",
    "        self._reheapify_upward(current)\n",
    "        \n",
    "    def _reheapify_upward(self, current):\n",
    "        parent = self._find_parent(current)\n",
    "        if parent > 0 and self.items[current] > self.items[parent]:\n",
    "            self.items[current], self.items[parent] = (\n",
    "                self.items[parent], self.items[current])\n",
    "            self._reheapify_upward(parent)\n",
    "            \n",
    "    def reheapify_downward(self):\n",
    "        self.items.insert(1, self.items.pop(-1))\n",
    "        self._reheapify_downward(1)\n",
    "        \n",
    "    def _reheapify_downward(self, current):\n",
    "        left = 2 * current\n",
    "        right = 2 * current + 1\n",
    "        \n",
    "        if left < len(self.items) - 1:\n",
    "            if right < len(self.items) - 1:\n",
    "                if max(self.items[left], self.items[right]) > self.items[current]:\n",
    "                    if self.items[left] > self.items[right]:\n",
    "                        self.items[current], self.items[left] = (\n",
    "                        self.items[left], self.items[current])\n",
    "                        self._reheapify_downward(left)\n",
    "                    else:\n",
    "                        self.items[current], self.items[right] = (\n",
    "                        self.items[right], self.items[current])\n",
    "                        self._reheapify_downward(right)\n",
    "            else:\n",
    "                if self.items[left] > self.items[current]:\n",
    "                    self.items[current], self.items[left] = (\n",
    "                        self.items[left], self.items[current])\n",
    "                    self._reheapify_downward(left)"
   ]
  },
  {
   "cell_type": "markdown",
   "metadata": {},
   "source": [
    "A MinHeap is available in the Python Standard Library, or by reversing the element comparisons in the MaxHeap class above. Here is the standard library implementation:"
   ]
  },
  {
   "cell_type": "code",
   "execution_count": 15,
   "metadata": {},
   "outputs": [],
   "source": [
    "import heapq"
   ]
  },
  {
   "cell_type": "code",
   "execution_count": 16,
   "metadata": {},
   "outputs": [
    {
     "name": "stdout",
     "output_type": "stream",
     "text": [
      "[2, 2, 3, 2, 6, 7, 6]\n"
     ]
    }
   ],
   "source": [
    "heap = [6, 2, 6, 2, 2, 7, 3]\n",
    "heapq.heapify(heap)\n",
    "print(heap)"
   ]
  },
  {
   "cell_type": "markdown",
   "metadata": {},
   "source": [
    "### Priority Queue\n",
    "\n",
    "A queue where elements are returned according to a supplied \"priority\" as opposed to the value of the element or the order the elements entered the queue. A priority queue can be implemented exactly the same way as a heap"
   ]
  },
  {
   "cell_type": "code",
   "execution_count": 17,
   "metadata": {},
   "outputs": [],
   "source": [
    "from collections import namedtuple\n",
    "\n",
    "Item = namedtuple('Item', ['data', 'priority'])\n",
    "\n",
    "class MaxPriority:\n",
    "    def __init__(self):\n",
    "        self.items = [None]\n",
    "        \n",
    "    def heappush(self, data, priority):\n",
    "        self.items.append(Item(data, priority))\n",
    "        self.reheapify_upward()\n",
    "        \n",
    "    def heappop(self):\n",
    "        item = self.items.pop(1)\n",
    "        self.reheapify_downward()\n",
    "        return item.data\n",
    "    \n",
    "    @staticmethod\n",
    "    def _find_parent(idx):\n",
    "        if idx % 2 == 0:\n",
    "            return int(idx / 2)\n",
    "        else:\n",
    "            return int((idx - 1) / 2) \n",
    "    \n",
    "    def reheapify_upward(self):\n",
    "        current = len(self.items) - 1\n",
    "        self._reheapify_upward(current)\n",
    "        \n",
    "    def _reheapify_upward(self, current):\n",
    "        parent = self._find_parent(current)\n",
    "        if parent > 0 and self.items[current].priority > self.items[parent].priority:\n",
    "            self.items[current], self.items[parent] = (\n",
    "                self.items[parent], self.items[current])\n",
    "            self._reheapify_upward(parent)\n",
    "            \n",
    "    def reheapify_downward(self):\n",
    "        self.items.insert(1, self.items.pop(-1))\n",
    "        self._reheapify_downward(1)\n",
    "        \n",
    "    def _reheapify_downward(self, current):\n",
    "        left = 2 * current\n",
    "        right = 2 * current + 1\n",
    "        \n",
    "        if left < len(self.items) - 1:\n",
    "            if right < len(self.items) - 1:\n",
    "                if max(self.items[left].priority, self.items[right].priority) > self.items[current].priority:\n",
    "                    if self.items[left] > self.items[right]:\n",
    "                        self.items[current], self.items[left] = (\n",
    "                        self.items[left], self.items[current])\n",
    "                        self._reheapify_downward(left)\n",
    "                    else:\n",
    "                        self.items[current], self.items[right] = (\n",
    "                        self.items[right], self.items[current])\n",
    "                        self._reheapify_downward(right)\n",
    "            else:\n",
    "                if self.items[left].priority > self.items[current].priority:\n",
    "                    self.items[current], self.items[left] = (\n",
    "                        self.items[left], self.items[current])\n",
    "                    self._reheapify_downward(left)"
   ]
  },
  {
   "cell_type": "code",
   "execution_count": 18,
   "metadata": {},
   "outputs": [
    {
     "name": "stdout",
     "output_type": "stream",
     "text": [
      "Paul\n",
      "Dani\n",
      "Miles\n"
     ]
    }
   ],
   "source": [
    "PQ = MaxPriority()\n",
    "PQ.heappush('Paul', 3)\n",
    "PQ.heappush('Miles', 1)\n",
    "PQ.heappush('Dani', 2)\n",
    "\n",
    "while len(PQ.items) > 1:\n",
    "    print(PQ.heappop())"
   ]
  },
  {
   "cell_type": "markdown",
   "metadata": {},
   "source": [
    "You can also use the heapq library, but the queue will return items in low priority to high priority order:"
   ]
  },
  {
   "cell_type": "code",
   "execution_count": 19,
   "metadata": {},
   "outputs": [
    {
     "name": "stdout",
     "output_type": "stream",
     "text": [
      "(1, 'Miles')\n",
      "(2, 'Dani')\n",
      "(3, 'Paul')\n"
     ]
    }
   ],
   "source": [
    "PQ = []\n",
    "heapq.heappush(PQ, (3, 'Paul'))\n",
    "heapq.heappush(PQ, (1, 'Miles'))\n",
    "heapq.heappush(PQ, (2, 'Dani'))\n",
    "\n",
    "while len(PQ) > 0:\n",
    "    print(heapq.heappop(PQ))"
   ]
  },
  {
   "cell_type": "markdown",
   "metadata": {},
   "source": [
    "### Hash Map\n",
    "\n",
    "A structure that stores data in an associative manner. A hash function maps the key to the location of its value and results in O(1) lookup, insertion, and deletion.\n",
    "\n",
    "If the hash function maps two keys to the same location, then all the keys that map to that location get stored in a linked list (this is called chaining). Long chains can result in O(N) operations. Personally, I would use a second hash table with a different hash function instead of a linked list"
   ]
  },
  {
   "cell_type": "markdown",
   "metadata": {},
   "source": [
    "In python, hash tables are very straightforwardly implemented as dictionaries. However, here is an array implementation:"
   ]
  },
  {
   "cell_type": "code",
   "execution_count": 20,
   "metadata": {},
   "outputs": [],
   "source": [
    "class HashTable:\n",
    "    def __init__(self, hash_function):\n",
    "        self.buckets = []\n",
    "        self.hash_function = hash_function\n",
    "    \n",
    "    def __call__(self, key):\n",
    "        return self.get_item(key)\n",
    "    \n",
    "    def insert(self, key, item):\n",
    "        hash_value = self.hash_function(key)\n",
    "        if len(self.buckets) < hash_value:\n",
    "            self.buckets.extend([None] * (hash_value - len(self.buckets) + 1))\n",
    "            self.buckets[hash_value] = DoublyLinkedList(item)\n",
    "            self.buckets[hash_value].head.key = key\n",
    "        elif isinstance(self.buckets[hash_value], DoublyLinkedList):\n",
    "            self.buckets[hash_value].insert(item)\n",
    "            self.buckets[hash_value].head.next.key = key\n",
    "        else:\n",
    "            self.buckets[hash_value] = DoublyLinkedList(item)\n",
    "            self.buckets[hash_value].head.key = key\n",
    "            \n",
    "    def get_item(self, key):\n",
    "        hash_value = self.hash_function(key)\n",
    "        return self.buckets[hash_value].lookup(key).val\n",
    "    \n",
    "    def delete(self, key):\n",
    "        hash_value = self.hash_function(key)\n",
    "        if isinstance(self.buckets[hash_value], DoublyLinkedList):\n",
    "            item = self.buckets[hash_value].lookup(key)\n",
    "            self.buckets[hash_value].delete(item)\n",
    "        else:\n",
    "            raise KeyError(f\"{key} is not in HashTable\")"
   ]
  },
  {
   "cell_type": "code",
   "execution_count": 21,
   "metadata": {},
   "outputs": [
    {
     "name": "stdout",
     "output_type": "stream",
     "text": [
      "[None, None, None, None, None, <__main__.DoublyLinkedList object at 0x7f9ef5247ac8>, None, None, <__main__.DoublyLinkedList object at 0x7f9ef52476a0>]\n"
     ]
    }
   ],
   "source": [
    "division_hash = lambda k: k % 97 # remainder of division with a prime has high chance of being unique\n",
    "\n",
    "ht = HashTable(division_hash)\n",
    "ht.insert(5, \"5\")\n",
    "ht.insert(8, \"8\")\n",
    "print(ht.buckets)"
   ]
  },
  {
   "cell_type": "markdown",
   "metadata": {},
   "source": [
    "### Hash Table\n",
    "\n",
    "In Python, hash maps and hash tables are essentially the same thing, and are both implemented through dictionaries. The main difference between the two is more pronounced in other languages. Technically speaking, hash maps are non-synchronized so multiple threads can access the data structure simultaneously, while hash tables are synchronized which forbids this behavior."
   ]
  },
  {
   "cell_type": "markdown",
   "metadata": {},
   "source": [
    "## Sorting Algorithms\n",
    "\n",
    "### Bubble Sort\n",
    "\n",
    "Could not be slower. Each pair of adjacent elements are compared and swapped if they are not in order. Always O(N$^2$)."
   ]
  },
  {
   "cell_type": "code",
   "execution_count": 22,
   "metadata": {},
   "outputs": [],
   "source": [
    "def bubble_sort(arr):\n",
    "    for i in range(len(arr) - 1, 0, -1):\n",
    "        for j in range(i):\n",
    "            if arr[j] > arr[j+1]:\n",
    "                arr[j], arr[j+1] = arr[j+1], arr[j]\n",
    "    return arr"
   ]
  },
  {
   "cell_type": "code",
   "execution_count": 23,
   "metadata": {},
   "outputs": [
    {
     "name": "stdout",
     "output_type": "stream",
     "text": [
      "[1, 3, 5, 5, 7, 7, 24]\n"
     ]
    }
   ],
   "source": [
    "arr = [1, 5, 24, 7, 3, 5, 7]\n",
    "print(bubble_sort(arr))"
   ]
  },
  {
   "cell_type": "markdown",
   "metadata": {},
   "source": [
    "### Merge Sort\n",
    "\n",
    "Divides the list into equal halves, combines the halves in a sorted manner. Will always be O(N log(N))."
   ]
  },
  {
   "cell_type": "code",
   "execution_count": 24,
   "metadata": {},
   "outputs": [],
   "source": [
    "def merge_sort(arr):\n",
    "    def merge(left_arr, right_arr):\n",
    "        out_arr = []\n",
    "        i, j = 0, 0\n",
    "        while i < len(left_arr) or j < len(right_arr):\n",
    "            if i == len(left_arr) or j == len(right_arr):\n",
    "                if i == len(left_arr):\n",
    "                    out_arr.append(right_arr[j])\n",
    "                    j += 1\n",
    "                else:\n",
    "                    out_arr.append(left_arr[i])\n",
    "                    i += 1\n",
    "            else:\n",
    "                if left_arr[i] < right_arr[j]:\n",
    "                    out_arr.append(left_arr[i])\n",
    "                    i += 1\n",
    "                else:\n",
    "                    out_arr.append(right_arr[j])\n",
    "                    j += 1\n",
    "\n",
    "        return out_arr\n",
    "    \n",
    "    if len(arr) <= 1:\n",
    "        return arr\n",
    "    \n",
    "    midpoint = len(arr) // 2\n",
    "    return merge(merge_sort(arr[:midpoint]), merge_sort(arr[midpoint:]))\n",
    "    "
   ]
  },
  {
   "cell_type": "code",
   "execution_count": 25,
   "metadata": {},
   "outputs": [
    {
     "name": "stdout",
     "output_type": "stream",
     "text": [
      "[1, 3, 5, 5, 7, 7, 24]\n"
     ]
    }
   ],
   "source": [
    "arr = [1, 5, 24, 7, 3, 5, 7]\n",
    "print(merge_sort(arr))"
   ]
  },
  {
   "cell_type": "markdown",
   "metadata": {},
   "source": [
    "### Quick Sort\n",
    "\n",
    "Select an element to be the \"pivot\" (common choices are the first element, last element, a random element, or the median element). Place everything smaller than the pivot to the left and everything larger to the pivot to the right. Apply this process recursively to each of the sub arrays created by partitioning.\n",
    "\n",
    "Quick sort is an inplace sort, so no auxillary arrays are required (like in merge sort). The average complexity is O(N log(N)), but O(N$^2$) in the worst case. For very large arrays, quick sort outperforms merge sort because no additional space is required."
   ]
  },
  {
   "cell_type": "code",
   "execution_count": 26,
   "metadata": {},
   "outputs": [],
   "source": [
    "def partition(arr, start, end):\n",
    "    pivot = arr[start]\n",
    "    low, high = start + 1, end\n",
    "    while True:\n",
    "        while low <= high and arr[high] >= pivot:\n",
    "            high -= 1\n",
    "\n",
    "        while low <= high and arr[low] <= pivot:\n",
    "            low += 1\n",
    "\n",
    "        if low <= high:\n",
    "            arr[low], arr[high] = arr[high], arr[low]\n",
    "        else:\n",
    "            break\n",
    "            \n",
    "    arr[start], arr[high] = arr[high], arr[start]\n",
    "    return high\n",
    "\n",
    "def quick_sort(arr, start, end):\n",
    "    if start >= end:\n",
    "        return\n",
    "    \n",
    "    pivot = partition(arr, start, end)\n",
    "    quick_sort(arr, start, pivot-1)\n",
    "    quick_sort(arr, pivot+1, end)"
   ]
  },
  {
   "cell_type": "code",
   "execution_count": 27,
   "metadata": {},
   "outputs": [
    {
     "name": "stdout",
     "output_type": "stream",
     "text": [
      "[1, 3, 5, 5, 7, 7, 24]\n"
     ]
    }
   ],
   "source": [
    "arr = [1, 5, 24, 7, 3, 5, 7]\n",
    "quick_sort(arr, 0, len(arr) - 1)\n",
    "print(arr)"
   ]
  },
  {
   "cell_type": "markdown",
   "metadata": {},
   "source": [
    "### Insertion Sort\n",
    "\n",
    "Start from the second element and select it. Compare to each element before it. If the selected element is smaller, swap the selected element with the comparison element, and continue for all of the previous elements until a comparison element is larger than the selected element.\n",
    "\n",
    "This approach is O(N$^2$) in the worst case (reverse sorted) and O(N) in the best case (already sorted). It sorts inplace, so no additional space is required."
   ]
  },
  {
   "cell_type": "code",
   "execution_count": 28,
   "metadata": {},
   "outputs": [],
   "source": [
    "def insertion_sort(arr):\n",
    "    selected_idx = 1\n",
    "    while selected_idx < len(arr):\n",
    "        next_selected_idx = selected_idx + 1\n",
    "        comparison_idx = selected_idx - 1\n",
    "        \n",
    "        while comparison_idx >= 0 and arr[selected_idx] < arr[comparison_idx]:\n",
    "            arr[selected_idx], arr[comparison_idx] = arr[comparison_idx], arr[selected_idx]\n",
    "            selected_idx = comparison_idx\n",
    "            comparison_idx -= 2\n",
    "        \n",
    "        selected_idx = next_selected_idx\n",
    "        "
   ]
  },
  {
   "cell_type": "code",
   "execution_count": 29,
   "metadata": {},
   "outputs": [
    {
     "name": "stdout",
     "output_type": "stream",
     "text": [
      "[1, 3, 5, 5, 7, 7, 24]\n"
     ]
    }
   ],
   "source": [
    "arr = [1, 5, 24, 7, 3, 5, 7]\n",
    "insertion_sort(arr)\n",
    "print(arr)"
   ]
  },
  {
   "cell_type": "markdown",
   "metadata": {},
   "source": [
    "### Counting Sort\n",
    "\n",
    "All comparison-based sorting algorithms have an average complexity of O(N log(N)). Thus, if we have the special case where the numbers in the list are bounded, and the number of possible values between the bounds is less that N log(N), then it is more efficient to proceed linearly through the list and count the occurances of each element in the set of possible values."
   ]
  },
  {
   "cell_type": "code",
   "execution_count": 30,
   "metadata": {},
   "outputs": [],
   "source": [
    "def counting_sort(arr, lower_bound, upper_bound):\n",
    "    count_array = [0] * (upper_bound - lower_bound + 1)\n",
    "    for item in arr:\n",
    "        count_array[item] += 1\n",
    "        \n",
    "    out_array = []\n",
    "    for value, counts in enumerate(count_array):\n",
    "        out_array.extend([value] * counts)\n",
    "        \n",
    "    return out_array\n",
    "        "
   ]
  },
  {
   "cell_type": "code",
   "execution_count": 31,
   "metadata": {},
   "outputs": [
    {
     "name": "stdout",
     "output_type": "stream",
     "text": [
      "[2, 3, 5, 5, 7, 7, 24]\n"
     ]
    }
   ],
   "source": [
    "arr = [2, 5, 24, 7, 3, 5, 7]\n",
    "print(counting_sort(arr, -3, 25))"
   ]
  },
  {
   "cell_type": "markdown",
   "metadata": {},
   "source": [
    "### Radix Sort\n",
    "\n",
    "Now if the numbers in the list get too large where counting sort would be inefficient, then we can instead analyze the values starting with the most significant digit to the least significant digit. Use counting sort (becasue there are only 10 possible values for each digit) as the sorting subroutine.\n",
    "\n",
    "The above approach uses base 10, but in principle radix sort can be performed in any base. Radix sort can be O(n) if we use base n to represent the numbers."
   ]
  },
  {
   "cell_type": "code",
   "execution_count": 32,
   "metadata": {},
   "outputs": [],
   "source": [
    "def based_counting_sort(arr, exp, base):\n",
    "    count_array = [[] for _ in range(base)] \n",
    "    for item in arr:\n",
    "        count_array[(item // exp) % base].append(item)\n",
    "        \n",
    "    out_array = []\n",
    "    for counts in count_array:\n",
    "        out_array.extend(counts)\n",
    "        \n",
    "    return out_array\n",
    "    \n",
    "\n",
    "def radix_sort(arr):\n",
    "    base = len(arr)\n",
    "    max_val = max(arr)\n",
    "    \n",
    "    exp = 1\n",
    "    while max_val > exp:\n",
    "        arr = based_counting_sort(arr, exp, base)\n",
    "        exp *= base\n",
    "        \n",
    "    return arr\n",
    "    "
   ]
  },
  {
   "cell_type": "code",
   "execution_count": 33,
   "metadata": {},
   "outputs": [
    {
     "name": "stdout",
     "output_type": "stream",
     "text": [
      "[2, 3, 5, 5, 7, 7, 24]\n"
     ]
    }
   ],
   "source": [
    "arr = [2, 5, 24, 7, 3, 5, 7]\n",
    "print(radix_sort(arr))"
   ]
  },
  {
   "cell_type": "markdown",
   "metadata": {},
   "source": [
    "### Heap Sort\n",
    "\n",
    "Build a max heap from the input data. Pop the root, and put the root at the end of the output array, then reheapify and repeat\n",
    "\n",
    "Also possible to use a min heap and append to an array as you go.\n",
    "\n",
    "The initial heapify call is O(N), each element gets popped which is also O(N), and each time an element gets popped the heap must be reheapified upward which is O(log(N)). Thus, the complexity of heap sort is O(N) + O(N log(N)) which is O(N log(N))."
   ]
  },
  {
   "cell_type": "code",
   "execution_count": 34,
   "metadata": {},
   "outputs": [],
   "source": [
    "def heap_sort(arr):\n",
    "    out_arr = []\n",
    "    heapq.heapify(arr)\n",
    "    while len(arr) != 0:\n",
    "        out_arr.append(heapq.heappop(arr))\n",
    "        \n",
    "    return out_arr"
   ]
  },
  {
   "cell_type": "code",
   "execution_count": 35,
   "metadata": {},
   "outputs": [
    {
     "name": "stdout",
     "output_type": "stream",
     "text": [
      "[2, 3, 5, 5, 7, 7, 24]\n"
     ]
    }
   ],
   "source": [
    "arr = [2, 5, 24, 7, 3, 5, 7]\n",
    "print(heap_sort(arr))"
   ]
  },
  {
   "cell_type": "markdown",
   "metadata": {},
   "source": [
    "## Traversal Algorithms\n",
    "\n",
    "Linear data structures are straightforward to move through, but tree-like data structures have several different options. Some of the most common are:\n",
    "\n",
    "- PreOrder\n",
    "- InOrder\n",
    "- Postorder"
   ]
  },
  {
   "cell_type": "code",
   "execution_count": 36,
   "metadata": {},
   "outputs": [
    {
     "name": "stdout",
     "output_type": "stream",
     "text": [
      "\n",
      "        5         \n",
      "    3     7     \n",
      "  1   .   6   8   \n",
      " .  2  .  .  .  .  .  .  \n"
     ]
    }
   ],
   "source": [
    "tree = BSNode(5)\n",
    "tree.insert(3)\n",
    "tree.insert(1)\n",
    "tree.insert(2)\n",
    "tree.insert(7)\n",
    "tree.insert(6)\n",
    "tree.insert(8)\n",
    "display_binary_tree(tree)"
   ]
  },
  {
   "cell_type": "markdown",
   "metadata": {},
   "source": [
    "### PreOrder Traversal\n",
    "\n",
    "1. Visit the root\n",
    "1. Call PreOrder on left subtree\n",
    "1. Call PreOrder on the right subtree"
   ]
  },
  {
   "cell_type": "code",
   "execution_count": 37,
   "metadata": {},
   "outputs": [],
   "source": [
    "def preorder_print(root):\n",
    "    \n",
    "    if root is None:\n",
    "        return\n",
    "    \n",
    "    print(root.data)\n",
    "    preorder_print(root.left)\n",
    "    preorder_print(root.right)"
   ]
  },
  {
   "cell_type": "code",
   "execution_count": 38,
   "metadata": {},
   "outputs": [
    {
     "name": "stdout",
     "output_type": "stream",
     "text": [
      "5\n",
      "3\n",
      "1\n",
      "2\n",
      "7\n",
      "6\n",
      "8\n"
     ]
    }
   ],
   "source": [
    "preorder_print(tree)"
   ]
  },
  {
   "cell_type": "markdown",
   "metadata": {},
   "source": [
    "### InOrder Traversal\n",
    "\n",
    "1. Call InOrder on left subtree\n",
    "1. Visit the root\n",
    "1. Call InOrder on the right subtree\n",
    "\n"
   ]
  },
  {
   "cell_type": "code",
   "execution_count": 39,
   "metadata": {},
   "outputs": [],
   "source": [
    "def inorder_print(root):\n",
    "    \n",
    "    if root is None:\n",
    "        return\n",
    "    \n",
    "    preorder_print(root.left)\n",
    "    print(root.data)\n",
    "    preorder_print(root.right)"
   ]
  },
  {
   "cell_type": "code",
   "execution_count": 40,
   "metadata": {},
   "outputs": [
    {
     "name": "stdout",
     "output_type": "stream",
     "text": [
      "3\n",
      "1\n",
      "2\n",
      "5\n",
      "7\n",
      "6\n",
      "8\n"
     ]
    }
   ],
   "source": [
    "inorder_print(tree)"
   ]
  },
  {
   "cell_type": "markdown",
   "metadata": {},
   "source": [
    "### PostOrder Traversal\n",
    "\n",
    "1. Call PostOrder on the left subtree\n",
    "1. Call PostOrder on the right subtree\n",
    "1. Visit the root"
   ]
  },
  {
   "cell_type": "code",
   "execution_count": 41,
   "metadata": {},
   "outputs": [],
   "source": [
    "def postorder_print(root):\n",
    "    \n",
    "    if root is None:\n",
    "        return\n",
    "    \n",
    "    preorder_print(root.left)\n",
    "    preorder_print(root.right)\n",
    "    print(root.data)"
   ]
  },
  {
   "cell_type": "code",
   "execution_count": 42,
   "metadata": {},
   "outputs": [
    {
     "name": "stdout",
     "output_type": "stream",
     "text": [
      "3\n",
      "1\n",
      "2\n",
      "7\n",
      "6\n",
      "8\n",
      "5\n"
     ]
    }
   ],
   "source": [
    "postorder_print(tree)"
   ]
  },
  {
   "cell_type": "markdown",
   "metadata": {},
   "source": [
    "## Graphs\n",
    "\n",
    "A collection of nodes (vertices) containing data and their connections (edges) to other nodes. They can be implemented in several ways. The most common are\n",
    "\n",
    "- Objects with pointers (point to all connections)\n",
    "- Adjacency lists (have just next and previous connections)\n",
    "- Matrices"
   ]
  },
  {
   "cell_type": "code",
   "execution_count": 43,
   "metadata": {},
   "outputs": [],
   "source": [
    "# Objects with Pointers\n",
    "class GraphObjectsAndPointers:\n",
    "    def __init__(self, data=None):\n",
    "        self.data = None\n",
    "        self.connections = []\n",
    "        \n",
    "    def add_connection(self, other_node):\n",
    "        self.connections.append(other_node)\n",
    "        other_node.connections.append(self)\n",
    "        \n",
    "    def remove_connection(self, other_node):\n",
    "        self.connections.remove(other_node)\n",
    "        other_node.connections.remove(self)\n",
    "        \n",
    "class GraphNodeOneWay:\n",
    "    def __init__(self, data=None):\n",
    "        self.data = data\n",
    "        self.nexts = []\n",
    "        \n",
    "    def add_connection(self, next_node):\n",
    "        self.nexts.append(next_node)\n",
    "        \n",
    "    def remove_connection(self, next_node):\n",
    "        self.nexts.remove(next_node)\n",
    "    \n",
    "        \n",
    "## Adjacency List\n",
    "class GraphAdjacencyList:\n",
    "    def __init__(self, data=None):\n",
    "        self.data = data\n",
    "        self.next = None\n",
    "        self.previous = None\n",
    "        \n",
    "## Bonus: Dictionary implementation (an adjacency list with more than next/previous)\n",
    "class GraphFromDict:\n",
    "    def __init__(self):\n",
    "        self.graph_dict = dict()\n",
    "        self.weight_dict = dict()\n",
    "        \n",
    "    def __repr__(self):\n",
    "        return self.graph_dict.__repr__()\n",
    "        \n",
    "    def add_node(self, name):\n",
    "        self.graph_dict[name] = set()\n",
    "        \n",
    "    def connect_nodes(self, node1, node2, weight=0):\n",
    "        self.graph_dict[node1].add(node2)\n",
    "        self.graph_dict[node2].add(node1)\n",
    "        self.weight_dict[(node1, node2)] = weight\n",
    "        self.weight_dict[(node2, node1)] = weight\n",
    "        \n",
    "    def remove_node(self, name):\n",
    "        for connection in self.graph_dict[name]:\n",
    "            self.graph_dict[connection].remove(name)\n",
    "        del self.graph_dict[name]\n",
    "        \n",
    "    def disconnect_nodes(self, node1, node2):\n",
    "        self.graph_dict[node1].remove(node2)\n",
    "        self.graph_dict[node2].remove(node1)   \n",
    "        del self.weight_dict[(node1, node2)]\n",
    "        del self.weight_dict[(node2, node1)]\n",
    "        \n",
    "        \n",
    "## Graph as matrix - 0 if not connected, 1 if connected\n",
    "class GraphFromMatrix:\n",
    "    def __init__(self, nodes=None):\n",
    "        if nodes is None:\n",
    "            nodes = {}\n",
    "        self.nodes = nodes\n",
    "        self.next_index = len(self.nodes)\n",
    "        self.connections = [[] for _ in self.nodes]\n",
    "        \n",
    "    def add_node(self, node):\n",
    "        self.nodes[node] = self.next_index\n",
    "        self.next_index += 1\n",
    "        for connection in self.connections:\n",
    "            connection.append(0)\n",
    "        self.connections.append([0] * len(self.nodes))\n",
    "        \n",
    "    def connect_nodes(self, node1, node2):\n",
    "        self.connections[self.nodes[node1]][self.nodes[node2]] = 1\n",
    "        self.connections[self.nodes[node2]][self.nodes[node1]] = 1\n",
    "        \n",
    "    def disconnect_nodes(self, node1, node2):\n",
    "        self.connections[self.nodes[node1]][self.nodes[node2]] = 0\n",
    "        self.connections[self.nodes[node2]][self.nodes[node1]] = 0\n",
    "        \n",
    "    def remove_node(self, node):\n",
    "        self.next_index -= 1\n",
    "        for connection in self.connections:\n",
    "            connection.pop(self.nodes[node])\n",
    "        self.connections.pop(self.nodes[node])\n",
    "        del self.nodes[node]"
   ]
  },
  {
   "cell_type": "markdown",
   "metadata": {},
   "source": [
    "### Search\n",
    "\n",
    "Applies to all kinds of graphs, but lets use a tree for the sake of example:"
   ]
  },
  {
   "cell_type": "code",
   "execution_count": 44,
   "metadata": {},
   "outputs": [
    {
     "name": "stdout",
     "output_type": "stream",
     "text": [
      "\n",
      "        5         \n",
      "    3     7     \n",
      "  1   .   6   8   \n",
      " .  2  .  .  .  .  .  .  \n"
     ]
    }
   ],
   "source": [
    "display_binary_tree(tree)"
   ]
  },
  {
   "cell_type": "markdown",
   "metadata": {},
   "source": [
    "**Breadth-First Search**\n",
    "\n",
    "When traversing a graph, use a queue to remember the nodes visited, and then dequeue whenever a dead end is reached."
   ]
  },
  {
   "cell_type": "code",
   "execution_count": 45,
   "metadata": {},
   "outputs": [],
   "source": [
    "def breadth_first_search(root, element):\n",
    "    queue = Queue()\n",
    "    queue.enqueue(root)\n",
    "    \n",
    "    while len(queue.queue) != 0:\n",
    "        compare_element = queue.dequeue()\n",
    "        if compare_element is None:\n",
    "            continue\n",
    "            \n",
    "        print(compare_element.data)\n",
    "            \n",
    "        if element == compare_element.data:\n",
    "            return compare_element\n",
    "        else:\n",
    "            # if not a tree, add all connection to queue\n",
    "            queue.enqueue(compare_element.left)\n",
    "            queue.enqueue(compare_element.right)"
   ]
  },
  {
   "cell_type": "code",
   "execution_count": 46,
   "metadata": {},
   "outputs": [
    {
     "name": "stdout",
     "output_type": "stream",
     "text": [
      "5\n",
      "3\n",
      "7\n",
      "1\n",
      "6\n"
     ]
    },
    {
     "data": {
      "text/plain": [
       "6"
      ]
     },
     "execution_count": 46,
     "metadata": {},
     "output_type": "execute_result"
    }
   ],
   "source": [
    "breadth_first_search(tree, 6).data"
   ]
  },
  {
   "cell_type": "markdown",
   "metadata": {},
   "source": [
    "**Depth-First Search**\n",
    "\n",
    "When traversing a graph, use a stack to remember thje nodes visited, and then pop whenever a dead end is reached."
   ]
  },
  {
   "cell_type": "code",
   "execution_count": 47,
   "metadata": {},
   "outputs": [],
   "source": [
    "def depth_first_search(root, element):\n",
    "    stack = Stack()\n",
    "    stack.push(root)\n",
    "    \n",
    "    while len(stack.stack) != 0:\n",
    "        compare_element = stack.pop()\n",
    "        if compare_element is None:\n",
    "            continue\n",
    "            \n",
    "        print(compare_element.data)\n",
    "            \n",
    "        if element == compare_element.data:\n",
    "            return compare_element\n",
    "        else:\n",
    "            # if not a tree, add all connection to stack\n",
    "            stack.push(compare_element.left)\n",
    "            stack.push(compare_element.right)"
   ]
  },
  {
   "cell_type": "code",
   "execution_count": 48,
   "metadata": {},
   "outputs": [
    {
     "name": "stdout",
     "output_type": "stream",
     "text": [
      "5\n",
      "7\n",
      "8\n",
      "6\n"
     ]
    },
    {
     "data": {
      "text/plain": [
       "6"
      ]
     },
     "execution_count": 48,
     "metadata": {},
     "output_type": "execute_result"
    }
   ],
   "source": [
    "depth_first_search(tree, 6).data"
   ]
  },
  {
   "cell_type": "markdown",
   "metadata": {},
   "source": [
    "### Cycle Detection\n",
    "\n",
    "Does the graph contain a cycle like the example below?\n",
    "\n",
    "![](https://media.geeksforgeeks.org/wp-content/uploads/20200429134027/Untitled-Diagram1411.png)\n",
    "\n",
    "To find out, utilize a depth first search and add a boolean `have_visited` attribute to each node when passing it."
   ]
  },
  {
   "cell_type": "code",
   "execution_count": 49,
   "metadata": {},
   "outputs": [],
   "source": [
    "node0 = GraphNodeOneWay(0)\n",
    "node1 = GraphNodeOneWay(1)\n",
    "node2 = GraphNodeOneWay(2)\n",
    "node3 = GraphNodeOneWay(3)\n",
    "node0.add_connection(node1)\n",
    "node0.add_connection(node2)\n",
    "node1.add_connection(node2)\n",
    "node2.add_connection(node3)\n",
    "node2.add_connection(node0)\n",
    "node3.add_connection(node3)"
   ]
  },
  {
   "cell_type": "code",
   "execution_count": 50,
   "metadata": {},
   "outputs": [],
   "source": [
    "def detect_cycle(start_graph_node):\n",
    "    stack = Stack()\n",
    "    stack.push(start_graph_node)\n",
    "    \n",
    "    while len(stack.stack) != 0:\n",
    "        next_node = stack.pop()\n",
    "        if hasattr(next_node, \"have_visited\"):\n",
    "            if next_node.have_visited:\n",
    "                return True\n",
    "        else:\n",
    "            next_node.have_visited = True\n",
    "        \n",
    "        for connection in next_node.nexts:\n",
    "            stack.push(connection)\n",
    "    \n",
    "    return False"
   ]
  },
  {
   "cell_type": "code",
   "execution_count": 51,
   "metadata": {},
   "outputs": [
    {
     "data": {
      "text/plain": [
       "True"
      ]
     },
     "execution_count": 51,
     "metadata": {},
     "output_type": "execute_result"
    }
   ],
   "source": [
    "detect_cycle(node0)"
   ]
  },
  {
   "cell_type": "markdown",
   "metadata": {},
   "source": [
    "The above example was for a directed graph. What if the graph is undirected? \n",
    "\n",
    "![](https://media.geeksforgeeks.org/wp-content/uploads/20200508214739/Untitled-Diagram14115.png)\n",
    "\n",
    "In this case, we still need to run a depth first search on every unvisited node, but because the connections are effectively two-way, we need to check if we are looking at a real cycle or if we just went to the immediate parent. One way to do this is to remove the connection to to the parent as the child is loaded onto the stack, guarenteeing the parent isn't revisited trivially."
   ]
  },
  {
   "cell_type": "code",
   "execution_count": 52,
   "metadata": {},
   "outputs": [],
   "source": [
    "node0 = GraphObjectsAndPointers(0)\n",
    "node1 = GraphObjectsAndPointers(1)\n",
    "node2 = GraphObjectsAndPointers(2)\n",
    "node3 = GraphObjectsAndPointers(3)\n",
    "node0.add_connection(node1)\n",
    "node0.add_connection(node2)\n",
    "node1.add_connection(node2)\n",
    "node2.add_connection(node3)"
   ]
  },
  {
   "cell_type": "code",
   "execution_count": 53,
   "metadata": {},
   "outputs": [],
   "source": [
    "# See below for cycle detection without modification to the original graph\n",
    "\n",
    "def detect_cycle_undirected(start_graph_node):\n",
    "    stack = Stack()\n",
    "    stack.push(start_graph_node)\n",
    "    \n",
    "    while len(stack.stack) != 0:\n",
    "        next_node = stack.pop()\n",
    "        if hasattr(next_node, \"have_visited\"):\n",
    "            return True\n",
    "        else:\n",
    "            next_node.have_visited = True\n",
    "        \n",
    "        for connection in next_node.connections:\n",
    "            connection.remove_connection(next_node)\n",
    "            stack.push(connection)\n",
    "    \n",
    "    return False"
   ]
  },
  {
   "cell_type": "code",
   "execution_count": 54,
   "metadata": {},
   "outputs": [
    {
     "data": {
      "text/plain": [
       "True"
      ]
     },
     "execution_count": 54,
     "metadata": {},
     "output_type": "execute_result"
    }
   ],
   "source": [
    "detect_cycle_undirected(node0)"
   ]
  },
  {
   "cell_type": "code",
   "execution_count": 55,
   "metadata": {},
   "outputs": [],
   "source": [
    "node0 = GraphObjectsAndPointers(0)\n",
    "node1 = GraphObjectsAndPointers(1)\n",
    "node2 = GraphObjectsAndPointers(2)\n",
    "node3 = GraphObjectsAndPointers(3)\n",
    "node0.add_connection(node1)\n",
    "node1.add_connection(node2)\n",
    "node2.add_connection(node3)"
   ]
  },
  {
   "cell_type": "code",
   "execution_count": 56,
   "metadata": {},
   "outputs": [
    {
     "data": {
      "text/plain": [
       "False"
      ]
     },
     "execution_count": 56,
     "metadata": {},
     "output_type": "execute_result"
    }
   ],
   "source": [
    "detect_cycle_undirected(node0)"
   ]
  },
  {
   "cell_type": "markdown",
   "metadata": {},
   "source": [
    "### Connectivity\n",
    "\n",
    "Some definitions:\n",
    "\n",
    "**Unconnected** A graph is not connected if all edge directions are removed (or reversed) and there is no path between a pair of vertices. A method to test for connectedness is to perform a depth first search, mark the nodes visited, reverse the edge directions, repeat the search. If there exist any nodes that were never visited, then the graph is unconnected.\n",
    "\n",
    "![](https://www.tutorialspoint.com/discrete_mathematics/images/unconnected_graph.jpg)\n"
   ]
  },
  {
   "cell_type": "code",
   "execution_count": 57,
   "metadata": {},
   "outputs": [],
   "source": [
    "def is_connected(list_of_nodes):\n",
    "    # tracker objects\n",
    "    stack = Stack()\n",
    "    tracker = []\n",
    "    \n",
    "    # search the graph\n",
    "    stack.push(list_of_nodes[0])\n",
    "    while len(stack.stack) != 0:\n",
    "        next_node = stack.pop()\n",
    "        tracker.append(next_node)\n",
    "        \n",
    "        for connection in next_node.connections:\n",
    "            connection.remove_connection(next_node)\n",
    "            stack.push(connection)\n",
    "            \n",
    "    # reverse the edge directions\n",
    "    for node in list_of_nodes:\n",
    "        for connection in node.connections:\n",
    "            node.remove_connection(connection)\n",
    "            connection.add_connection(node)\n",
    "            \n",
    "    # search the graph again\n",
    "    stack.push(list_of_nodes[0])\n",
    "    while len(stack.stack) != 0:\n",
    "        next_node = stack.pop()\n",
    "        tracker.append(next_node)\n",
    "        \n",
    "        for connection in next_node.connections:\n",
    "            connection.remove_connection(next_node)\n",
    "            stack.push(connection)\n",
    "            \n",
    "    return len(set(tracker)) == len(list_of_nodes)"
   ]
  },
  {
   "cell_type": "code",
   "execution_count": 58,
   "metadata": {},
   "outputs": [
    {
     "data": {
      "text/plain": [
       "False"
      ]
     },
     "execution_count": 58,
     "metadata": {},
     "output_type": "execute_result"
    }
   ],
   "source": [
    "is_connected([node0, node1, node2, node3])"
   ]
  },
  {
   "cell_type": "code",
   "execution_count": 59,
   "metadata": {},
   "outputs": [
    {
     "data": {
      "text/plain": [
       "False"
      ]
     },
     "execution_count": 59,
     "metadata": {},
     "output_type": "execute_result"
    }
   ],
   "source": [
    "nodea = GraphObjectsAndPointers('a')\n",
    "nodeb = GraphObjectsAndPointers('b')\n",
    "nodec = GraphObjectsAndPointers('c')\n",
    "noded = GraphObjectsAndPointers('d')\n",
    "nodea.add_connection(nodeb)\n",
    "nodeb.add_connection(nodea)\n",
    "nodec.add_connection(noded)\n",
    "is_connected([nodea, nodeb, nodec, noded])"
   ]
  },
  {
   "cell_type": "markdown",
   "metadata": {},
   "source": [
    "**Strongly Connected**: There exists a path between $u$ and $v$ for any two vertices $u$ and $v$. In other words, by starting at any node it's possible to reach any node.\n",
    "\n",
    "![](https://media.geeksforgeeks.org/wp-content/uploads/20200523224115/strongly.png)\n",
    "\n",
    "**Unilaterally Connected**: There exists a path from $u$ to $v$ or from $v$ to $u$ for any two vertices $u$ and $v$. In other words, there exists at least one node from which you can reach any other node.\n",
    "\n",
    "![](https://media.geeksforgeeks.org/wp-content/uploads/20200523231821/unilateral.png)\n",
    "\n",
    "**Weakly Connected**: There exists at least one pair of vertices $u$ and $v$ such that no path exists between them. In other words, for any starting vertex, there will always be at least one unreachable vertex. However, if edge directions are removed, then there is a path between any two nodes.\n",
    "\n",
    "![](https://media.geeksforgeeks.org/wp-content/uploads/20200523233231/weakly.png)\n",
    "\n",
    "A useful tool for characterizing graphs and assessing the type of connectivity is to construct a **path matrix**. In a path matrix, the starting nodes index the rows and the ending nodes index the columns. If a path exists from the starting node to the ending node, then the element is a 1, else it is a 0.\n",
    "\n",
    "- If strongly connected, all elements are 1\n",
    "- If unilaterally connected, the matrix is triagular (without the main diagonal)\n",
    "- If weakly connected, neither of the above conditions are met"
   ]
  },
  {
   "cell_type": "code",
   "execution_count": 60,
   "metadata": {},
   "outputs": [],
   "source": [
    "import numpy as np"
   ]
  },
  {
   "cell_type": "code",
   "execution_count": 61,
   "metadata": {},
   "outputs": [],
   "source": [
    "def assess_path_matrix(list_of_nodes):\n",
    "    path_matrix = [[0 for _ in list_of_nodes] for _ in list_of_nodes]\n",
    "    idx_map = {node.data: idx for idx, node in enumerate(list_of_nodes)}\n",
    "    \n",
    "    for node in list_of_nodes:\n",
    "        node.visited = False\n",
    "    \n",
    "    for node in list_of_nodes:\n",
    "        stack = Stack()\n",
    "        stack.push(node)\n",
    "        while len(stack.stack) != 0:\n",
    "            next_node = stack.pop()\n",
    "            next_node.visited = True\n",
    "\n",
    "            for connection in next_node.nexts:\n",
    "                path_matrix[idx_map[node.data]][idx_map[connection.data]] = 1\n",
    "                if not connection.visited:\n",
    "                    stack.push(connection)\n",
    "                    \n",
    "        else:\n",
    "            # reset all visited flags\n",
    "            for n in list_of_nodes:\n",
    "                n.visited = False\n",
    "                \n",
    "    for row in path_matrix:\n",
    "        print(row)\n",
    "        \n",
    "    path_matrix = np.array(path_matrix)\n",
    "    if path_matrix.min() == 1:\n",
    "        print(\"Strongly Connected\")\n",
    "    elif (np.all(np.triu(path_matrix) == path_matrix) or \n",
    "          np.all(np.tril(path_matrix) == path_matrix)):\n",
    "        print(\"Unilaterally Connected\")\n",
    "    else:\n",
    "        if True: #is_connected(list_of_nodes): ## Should check connectedness, but the is_connected function is currently not ready for the GraphNodeOneWay object\n",
    "            print(\"Weakly Connected\")\n",
    "        else:\n",
    "            print(\"Unconnected\")"
   ]
  },
  {
   "cell_type": "code",
   "execution_count": 62,
   "metadata": {},
   "outputs": [
    {
     "name": "stdout",
     "output_type": "stream",
     "text": [
      "[1, 1, 1]\n",
      "[1, 1, 1]\n",
      "[1, 1, 1]\n",
      "Strongly Connected\n"
     ]
    }
   ],
   "source": [
    "nodea = GraphNodeOneWay('a')\n",
    "nodeb = GraphNodeOneWay('b')\n",
    "nodec = GraphNodeOneWay('c')\n",
    "nodea.add_connection(nodeb)\n",
    "nodeb.add_connection(nodec)\n",
    "nodec.add_connection(nodea)\n",
    "assess_path_matrix([nodea, nodeb, nodec])"
   ]
  },
  {
   "cell_type": "code",
   "execution_count": 63,
   "metadata": {},
   "outputs": [
    {
     "name": "stdout",
     "output_type": "stream",
     "text": [
      "[0, 1, 1]\n",
      "[0, 0, 1]\n",
      "[0, 0, 0]\n",
      "Unilaterally Connected\n"
     ]
    }
   ],
   "source": [
    "nodea = GraphNodeOneWay('a')\n",
    "nodeb = GraphNodeOneWay('b')\n",
    "nodec = GraphNodeOneWay('c')\n",
    "nodea.add_connection(nodeb)\n",
    "nodeb.add_connection(nodec)\n",
    "assess_path_matrix([nodea, nodeb, nodec])"
   ]
  },
  {
   "cell_type": "code",
   "execution_count": 64,
   "metadata": {},
   "outputs": [
    {
     "name": "stdout",
     "output_type": "stream",
     "text": [
      "[0, 1, 0]\n",
      "[0, 0, 0]\n",
      "[0, 1, 0]\n",
      "Weakly Connected\n"
     ]
    }
   ],
   "source": [
    "nodea = GraphNodeOneWay('a')\n",
    "nodeb = GraphNodeOneWay('b')\n",
    "nodec = GraphNodeOneWay('c')\n",
    "nodea.add_connection(nodeb)\n",
    "nodec.add_connection(nodeb)\n",
    "assess_path_matrix([nodea, nodeb, nodec])"
   ]
  },
  {
   "cell_type": "markdown",
   "metadata": {},
   "source": [
    "### Weighted Graphs\n",
    "\n",
    "Edges can also have weights. These weights characterize the cost of traversing an edge. As an example, edge weights could be physical distance between the vertices, such that traversing the edge is analagous to travelling a distance.\n",
    "\n",
    "![](https://www.geeksforgeeks.org/wp-content/uploads/Fig-11.jpg)\n",
    "\n",
    "To implement weights, it's straightforward to add a weight attirbute to a `GraphNode` class:"
   ]
  },
  {
   "cell_type": "code",
   "execution_count": 65,
   "metadata": {},
   "outputs": [],
   "source": [
    "class Vertex:\n",
    "    def __init__(self, data):\n",
    "        self.data = data\n",
    "        \n",
    "class Edge:\n",
    "    def __init__(self, start, end, weight):\n",
    "        self.start = start\n",
    "        self.end = end\n",
    "        self.weight = weight\n",
    "\n",
    "class EdgeVertexGraph:\n",
    "    def __init__(self):\n",
    "        self.edges = {}\n",
    "        self.vertices = {}\n",
    "        self.graph = {}\n",
    "        \n",
    "    def add_vertex(self, data):\n",
    "        self.vertices[data] = Vertex(data)\n",
    "        self.graph[data] = []\n",
    "        \n",
    "    def add_edge(self, start, end, weight):\n",
    "        edge = Edge(self.vertices[start], self.vertices[end], weight)\n",
    "        self.edges[(start, end)] = edge\n",
    "        self.edges[(end, start)] = edge\n",
    "        self.graph[start].append(end)\n",
    "        self.graph[end].append(start)\n",
    "        \n",
    "    def remove_edge(self, start, end):\n",
    "        del self.edges[(start, end)]\n",
    "        del self.edges[(end, start)]\n",
    "        self.graph[start].remove(end)\n",
    "        self.graph[end].remove(start)"
   ]
  },
  {
   "cell_type": "code",
   "execution_count": 66,
   "metadata": {},
   "outputs": [],
   "source": [
    "graph = EdgeVertexGraph()\n",
    "graph.add_vertex(0)\n",
    "graph.add_vertex(1)\n",
    "graph.add_vertex(2)\n",
    "graph.add_vertex(3)\n",
    "graph.add_vertex(4)\n",
    "graph.add_vertex(5)\n",
    "graph.add_vertex(6)\n",
    "graph.add_vertex(7)\n",
    "graph.add_vertex(8)\n",
    "graph.add_edge(0, 1, 4)\n",
    "graph.add_edge(0, 7, 8)\n",
    "graph.add_edge(1, 7, 11)\n",
    "graph.add_edge(1, 2, 8)\n",
    "graph.add_edge(7, 8, 7)\n",
    "graph.add_edge(6, 7, 1)\n",
    "graph.add_edge(2, 8, 2)\n",
    "graph.add_edge(6, 8, 6)\n",
    "graph.add_edge(2, 3, 7)\n",
    "graph.add_edge(2, 5, 4)\n",
    "graph.add_edge(5, 6, 2)\n",
    "graph.add_edge(3, 5, 14)\n",
    "graph.add_edge(3, 4, 9)\n",
    "graph.add_edge(4, 5, 10)"
   ]
  },
  {
   "cell_type": "markdown",
   "metadata": {},
   "source": [
    "A common use of weighted graphs is to find the shortest distance between two nodes. The algorithm describing the solution is \"Dijkstra's algorithm\".\n",
    "\n",
    "1. Create an empty shortest-path-tree set which stores the vertices of the shortest path\n",
    "1. Assign a distance value to all vertices in the graph. \n",
    "    - Initialize the start node as 0 \n",
    "    - Initialize all others as infinite\n",
    "1. While the empty shortest-path-set does not contain the vertex of interest:\n",
    "    - Pick the vertix not in the shortest path set with the minimum distance value\n",
    "    - Add the vertex to the shortest path set\n",
    "    - Update the distance values of all vertices adjacent to u\n"
   ]
  },
  {
   "cell_type": "code",
   "execution_count": 67,
   "metadata": {},
   "outputs": [],
   "source": [
    "def djikstra(graph, start):\n",
    "    # Create an empty shortest-path-tree set\n",
    "    spt_set = set()\n",
    "    \n",
    "    # Initialize the distances\n",
    "    for name, vertex in graph.vertices.items():\n",
    "        if name == start:\n",
    "            vertex.distance = 0\n",
    "        else:\n",
    "            vertex.distance = float('inf')\n",
    "    \n",
    "    # While the shortest-path-tree set does not contain all vertices\n",
    "    while len(spt_set) != len(graph.vertices):\n",
    "        \n",
    "        # Pick the vertex not in spt_set with the smallest distance\n",
    "        min_distance, next_vertex = float('inf'), None\n",
    "        for name in graph.vertices:\n",
    "            \n",
    "            if name in spt_set:\n",
    "                continue\n",
    "                \n",
    "            if graph.vertices[name].distance < min_distance:\n",
    "                min_distance = graph.vertices[name].distance\n",
    "                next_vertex = name\n",
    "                \n",
    "        # Include the vertex in spt_set\n",
    "        spt_set.add(next_vertex)\n",
    "        \n",
    "        # Update the distance values of all adjacent vertices not in spt_set\n",
    "        for vertex_name in graph.graph[next_vertex]:\n",
    "            if vertex_name not in spt_set:\n",
    "                graph.vertices[vertex_name].distance = (\n",
    "                    min_distance + graph.edges[next_vertex, vertex_name].weight)\n",
    "            \n",
    "    # Print the shortest path\n",
    "    for vertex_name, vertex in graph.vertices.items():\n",
    "        print(vertex_name, vertex.distance)"
   ]
  },
  {
   "cell_type": "code",
   "execution_count": 68,
   "metadata": {},
   "outputs": [
    {
     "name": "stdout",
     "output_type": "stream",
     "text": [
      "0 0\n",
      "1 4\n",
      "2 12\n",
      "3 35\n",
      "4 26\n",
      "5 16\n",
      "6 18\n",
      "7 19\n",
      "8 14\n"
     ]
    }
   ],
   "source": [
    "djikstra(graph, 0)"
   ]
  },
  {
   "cell_type": "markdown",
   "metadata": {},
   "source": [
    "### Minimum Spanning Trees\n",
    "\n",
    "Given a connected, undirected graph, remove edges until you get a tree. There can sometimes be several ways to remove edges. If the edges are weighted, we can define the minimum spanning tree to be the tree that connects all nodes in a graph for which the sum of the edges in the tree is less than that of all other spanning trees.\n",
    "\n",
    "A spanning tree will always have V-1 edges for a graph with V vertices.\n",
    "\n",
    "To find the minimum spanning tree for a given weighted, connected, undirected graph, we can use Kruskal's Minimum Spanning Tree Algorithm:\n",
    "\n",
    "1. Sort all the edges in increasing order of their weight\n",
    "1. Pick the smallest edge, check if it forms a cycle with the spanning tree formed so far.\n",
    "    - If no, include it in the MST\n",
    "    - If yes, discard it\n",
    "1. Repeat step 2 until we have included V-1 edges"
   ]
  },
  {
   "cell_type": "code",
   "execution_count": 69,
   "metadata": {},
   "outputs": [],
   "source": [
    "def cycle_detection_undirected_graph(start_graph, start):\n",
    "    # Make a copy so that we don't change the original graph\n",
    "    graph = GraphFromDict()\n",
    "    graph.graph_dict = eval(start_graph.__repr__())\n",
    "    graph.weight_dict = eval(start_graph.weight_dict.__repr__())\n",
    "    \n",
    "    visited = {}\n",
    "    queue = Queue()\n",
    "    queue.enqueue(start)\n",
    "    while len(queue.queue) != 0:\n",
    "        current = queue.dequeue()\n",
    "        try:\n",
    "            has_visited = visited[current]\n",
    "            if has_visited:\n",
    "                return True\n",
    "        except KeyError:\n",
    "            visited[current] = True\n",
    "            \n",
    "        connections = list(graph.graph_dict[current])\n",
    "        for connection in connections:\n",
    "            graph.disconnect_nodes(current, connection)\n",
    "            queue.enqueue(connection)\n",
    "        \n",
    "    return False\n",
    "    \n",
    "        "
   ]
  },
  {
   "cell_type": "code",
   "execution_count": 70,
   "metadata": {},
   "outputs": [
    {
     "data": {
      "text/plain": [
       "True"
      ]
     },
     "execution_count": 70,
     "metadata": {},
     "output_type": "execute_result"
    }
   ],
   "source": [
    "test_graph = GraphFromDict()\n",
    "test_graph.add_node(1)\n",
    "test_graph.add_node(2)\n",
    "test_graph.add_node(3)\n",
    "test_graph.connect_nodes(1, 2, 1)\n",
    "test_graph.connect_nodes(2, 3, 1)\n",
    "test_graph.connect_nodes(1, 3, 1)\n",
    "cycle_detection_undirected_graph(test_graph, list(test_graph.graph_dict.keys())[0])"
   ]
  },
  {
   "cell_type": "code",
   "execution_count": 71,
   "metadata": {},
   "outputs": [],
   "source": [
    "def kruskal_mst(graph):\n",
    "    # Get the unique edges\n",
    "    edges = {}\n",
    "    for edge, weight in graph.weight_dict.items():\n",
    "        start = min(edge[0], edge[1])\n",
    "        end = max(edge[0], edge[1])\n",
    "        edges[(start, end)] = weight\n",
    "        \n",
    "    # Sort the edges\n",
    "    edges = sorted(edges.keys(), key=lambda x: edges[x])\n",
    "    \n",
    "    # Determine stopping point\n",
    "    stopping_point = len(graph.graph_dict) \n",
    "    \n",
    "    # Initialize a new graph to hold the MST\n",
    "    mst = GraphFromDict()\n",
    "    for node in graph.graph_dict:\n",
    "        mst.add_node(node)\n",
    "    \n",
    "    # Begin checking edges\n",
    "    while len(mst.weight_dict) < 2 * stopping_point - 3:\n",
    "        # Get the smallest edge\n",
    "        edge = edges.pop(0)\n",
    "        \n",
    "        # Add edge to mst\n",
    "        mst.connect_nodes(edge[0], edge[1], graph.weight_dict[edge])\n",
    "        \n",
    "        # Determine if we have a cycle in the MST\n",
    "        cycle_detected = cycle_detection_undirected_graph(mst, edge[0])\n",
    "            \n",
    "        # If there was a cycle, remove edge from mst\n",
    "        if cycle_detected:\n",
    "            mst.disconnect_nodes(edge[0], edge[1])\n",
    "            \n",
    "            \n",
    "    return mst"
   ]
  },
  {
   "cell_type": "code",
   "execution_count": 72,
   "metadata": {},
   "outputs": [],
   "source": [
    "mst_graph = GraphFromDict()\n",
    "mst_graph.add_node(0)\n",
    "mst_graph.add_node(1)\n",
    "mst_graph.add_node(2)\n",
    "mst_graph.add_node(3)\n",
    "mst_graph.add_node(4)\n",
    "mst_graph.add_node(5)\n",
    "mst_graph.add_node(6)\n",
    "mst_graph.add_node(7)\n",
    "mst_graph.add_node(8)\n",
    "mst_graph.connect_nodes(0, 1, 4)\n",
    "mst_graph.connect_nodes(0, 7, 8)\n",
    "mst_graph.connect_nodes(1, 7, 11)\n",
    "mst_graph.connect_nodes(1, 2, 8)\n",
    "mst_graph.connect_nodes(7, 8, 7)\n",
    "mst_graph.connect_nodes(6, 7, 1)\n",
    "mst_graph.connect_nodes(2, 8, 2)\n",
    "mst_graph.connect_nodes(6, 8, 6)\n",
    "mst_graph.connect_nodes(2, 3, 7)\n",
    "mst_graph.connect_nodes(2, 5, 4)\n",
    "mst_graph.connect_nodes(5, 6, 2)\n",
    "mst_graph.connect_nodes(3, 5, 14)\n",
    "mst_graph.connect_nodes(3, 4, 9)\n",
    "mst_graph.connect_nodes(4, 5, 10)\n",
    "\n",
    "mst = kruskal_mst(mst_graph)"
   ]
  },
  {
   "cell_type": "code",
   "execution_count": 73,
   "metadata": {},
   "outputs": [
    {
     "data": {
      "text/plain": [
       "dict_keys([(6, 7), (7, 6), (2, 8), (8, 2), (5, 6), (6, 5), (0, 1), (1, 0), (2, 5), (5, 2), (2, 3), (3, 2), (0, 7), (7, 0), (3, 4), (4, 3)])"
      ]
     },
     "execution_count": 73,
     "metadata": {},
     "output_type": "execute_result"
    }
   ],
   "source": [
    "mst.weight_dict.keys()"
   ]
  },
  {
   "cell_type": "markdown",
   "metadata": {},
   "source": [
    "![](https://media.geeksforgeeks.org/wp-content/cdn-uploads/fig8new.jpeg)\n",
    "\n",
    "Verified that the edges selected by Kruskal's algorithm create a spanning tree."
   ]
  },
  {
   "cell_type": "markdown",
   "metadata": {},
   "source": [
    "## Common Problems\n",
    "\n",
    "Several problems using these data structures are popular and can appear in different guises. Let's overview a couple.\n",
    "\n",
    "First, lets overview classes of problems:\n",
    "\n",
    "- P: An algorithmic solution in polynomial time exists for the problem\n",
    "- NP: An algorithmic solution in non-polynomial time exists\n",
    "\n",
    "*Aside*: It is unknown whether there are algorithms that can solve currently-NP problems in polynomial time. That is, neither P=NP nor P$\\neq$NP has been proven.\n",
    "\n",
    "- NP-Complete: An algorithmic solution in non-polynomial time exists, and every problem in NP can be reduced to the problem in polynomial time.\n",
    "\n",
    "- NP-Hard: The problem is at least as hard as the problems in NP-Complete\n",
    "\n",
    "![](https://upload.wikimedia.org/wikipedia/commons/thumb/a/a0/P_np_np-complete_np-hard.svg/600px-P_np_np-complete_np-hard.svg.png)"
   ]
  },
  {
   "cell_type": "markdown",
   "metadata": {},
   "source": [
    "### Traveling Salesperson (NP-Complete)\n",
    "\n",
    "*Given a list of cities and the distances between each pair of cities, what is the shortest possible route that visits each city exactly once and returns to the origin city?*"
   ]
  },
  {
   "cell_type": "markdown",
   "metadata": {},
   "source": [
    "### Knapsack (NP-Complete)\n",
    "\n",
    "*Given a set of items, each with a weight and a value, determine the number of each item to include in a collection so that the total weight is less than or equal to a given limit and the total value is as large as possible.*"
   ]
  },
  {
   "cell_type": "markdown",
   "metadata": {},
   "source": [
    "## Bit Manipulation\n",
    "\n",
    "There are six main operators to know:\n",
    "\n",
    "| Operator | Use |\n",
    "| --- | --- |\n",
    "| & | returns 1 if both bits are 1, 0 otherwise |\n",
    "| \\| | returns 1 if either of the bits are 1, 0 otherwise |\n",
    "| ^ | returns 1 if the bits are different, 0 if they are the same |\n",
    "| ~ | inverts a bit |\n",
    "| << | shifts the bits to the left |\n",
    "| >> | shifts the bits to the right |\n",
    "\n",
    "### Creating a bit mask\n",
    "\n",
    "To target a single bit, you'll need to create a bit mask. This can be done by shifting a 1 to the left the correct number of places to reach your bit.\n",
    "\n",
    "**Setting a bit** \n",
    "\n",
    "To set a bit, use the bitwise OR to compare your bitmask and the number."
   ]
  },
  {
   "cell_type": "code",
   "execution_count": 74,
   "metadata": {},
   "outputs": [
    {
     "name": "stdout",
     "output_type": "stream",
     "text": [
      "32 0b100000\n"
     ]
    }
   ],
   "source": [
    "num = 32\n",
    "print(num, bin(num))"
   ]
  },
  {
   "cell_type": "code",
   "execution_count": 75,
   "metadata": {},
   "outputs": [
    {
     "name": "stdout",
     "output_type": "stream",
     "text": [
      "36 0b100100\n"
     ]
    }
   ],
   "source": [
    "# set the 4 bit\n",
    "mask = 1 << 2\n",
    "num = num | mask\n",
    "print(num, bin(num))"
   ]
  },
  {
   "cell_type": "markdown",
   "metadata": {},
   "source": [
    "**Clearing a bit**\n",
    "\n",
    "To clear a bit, use the bitwise AND to compare the opposite of your bitmask and the number."
   ]
  },
  {
   "cell_type": "code",
   "execution_count": 76,
   "metadata": {},
   "outputs": [
    {
     "name": "stdout",
     "output_type": "stream",
     "text": [
      "32 0b100000\n"
     ]
    }
   ],
   "source": [
    "# clear the 4 bit\n",
    "num = num & ~mask\n",
    "print(num, bin(num))"
   ]
  },
  {
   "cell_type": "markdown",
   "metadata": {},
   "source": [
    "**Toggling a bit**\n",
    "\n",
    "Toggling a bit means switch it to 1 if it is 0 and switch it to 0 if it is 1. To toggle a bit, use the bitwise XOR to compare the bitmask with your number."
   ]
  },
  {
   "cell_type": "code",
   "execution_count": 77,
   "metadata": {},
   "outputs": [
    {
     "name": "stdout",
     "output_type": "stream",
     "text": [
      "36 0b100100\n",
      "32 0b100000\n"
     ]
    }
   ],
   "source": [
    "# toggle the 4 bit\n",
    "num ^= mask\n",
    "print(num, bin(num))\n",
    "num ^= mask\n",
    "print(num, bin(num))"
   ]
  },
  {
   "cell_type": "markdown",
   "metadata": {},
   "source": [
    "**Check if a bit is set**\n",
    "\n",
    "To determine whether a bit is set, compare your bitmask with the number using the AND operator."
   ]
  },
  {
   "cell_type": "code",
   "execution_count": 78,
   "metadata": {},
   "outputs": [
    {
     "data": {
      "text/plain": [
       "0"
      ]
     },
     "execution_count": 78,
     "metadata": {},
     "output_type": "execute_result"
    }
   ],
   "source": [
    "# the 4 bit is currently not set\n",
    "num & mask"
   ]
  },
  {
   "cell_type": "markdown",
   "metadata": {},
   "source": [
    "**Select the nth bit**\n",
    "\n",
    "Select the nth bit by comparing a bitmask to it using the AND operator and checking if the result is equal to 0. If the bit is set, the bitmask AND the number will be 1, and 1 != 0, so you'll get True, which is also the value of the bit. If the bit is not set, your number AND the bitmask will be 0, and 0 == 0 so 0 != 0 will evaluate to False, which is the value of the bit."
   ]
  },
  {
   "cell_type": "code",
   "execution_count": 79,
   "metadata": {},
   "outputs": [
    {
     "data": {
      "text/plain": [
       "False"
      ]
     },
     "execution_count": 79,
     "metadata": {},
     "output_type": "execute_result"
    }
   ],
   "source": [
    "# select the 4 bit\n",
    "(num & mask) != 0"
   ]
  },
  {
   "cell_type": "markdown",
   "metadata": {},
   "source": [
    "**Find the most significant bit (MSB)**\n",
    "\n",
    "Find the index of the most significant bit by taking the logarithm and rounding down."
   ]
  },
  {
   "cell_type": "code",
   "execution_count": 80,
   "metadata": {},
   "outputs": [],
   "source": [
    "import math"
   ]
  },
  {
   "cell_type": "code",
   "execution_count": 81,
   "metadata": {},
   "outputs": [
    {
     "data": {
      "text/plain": [
       "5"
      ]
     },
     "execution_count": 81,
     "metadata": {},
     "output_type": "execute_result"
    }
   ],
   "source": [
    "msb_index = int(math.log(num, 2))\n",
    "msb_index"
   ]
  },
  {
   "cell_type": "markdown",
   "metadata": {},
   "source": [
    "Find the value of that bit by exponentiating."
   ]
  },
  {
   "cell_type": "code",
   "execution_count": 82,
   "metadata": {},
   "outputs": [
    {
     "data": {
      "text/plain": [
       "32"
      ]
     },
     "execution_count": 82,
     "metadata": {},
     "output_type": "execute_result"
    }
   ],
   "source": [
    "msb = 2**msb_index\n",
    "msb"
   ]
  },
  {
   "cell_type": "markdown",
   "metadata": {},
   "source": [
    "**Find the least significant bit (LSB)**\n",
    "\n",
    "Find the value of the least significant bit by comparing the number with it's complement using the bitwise AND."
   ]
  },
  {
   "cell_type": "code",
   "execution_count": 83,
   "metadata": {},
   "outputs": [
    {
     "data": {
      "text/plain": [
       "32"
      ]
     },
     "execution_count": 83,
     "metadata": {},
     "output_type": "execute_result"
    }
   ],
   "source": [
    "lsb = num & -num\n",
    "lsb"
   ]
  },
  {
   "cell_type": "markdown",
   "metadata": {},
   "source": [
    "**Count set bits**\n",
    "\n",
    "Count the number of set bits by looping through the bits."
   ]
  },
  {
   "cell_type": "code",
   "execution_count": 84,
   "metadata": {},
   "outputs": [],
   "source": [
    "def count_set_bits(num):\n",
    "    count = 0\n",
    "    while num > 0:\n",
    "        num &= (num - 1)\n",
    "        count += 1\n",
    "    return count"
   ]
  },
  {
   "cell_type": "code",
   "execution_count": 85,
   "metadata": {},
   "outputs": [
    {
     "data": {
      "text/plain": [
       "1"
      ]
     },
     "execution_count": 85,
     "metadata": {},
     "output_type": "execute_result"
    }
   ],
   "source": [
    "count_set_bits(num)"
   ]
  },
  {
   "cell_type": "code",
   "execution_count": null,
   "metadata": {},
   "outputs": [],
   "source": []
  }
 ],
 "metadata": {
  "kernelspec": {
   "display_name": "Python 3",
   "language": "python",
   "name": "python3"
  },
  "language_info": {
   "codemirror_mode": {
    "name": "ipython",
    "version": 3
   },
   "file_extension": ".py",
   "mimetype": "text/x-python",
   "name": "python",
   "nbconvert_exporter": "python",
   "pygments_lexer": "ipython3",
   "version": "3.7.1"
  }
 },
 "nbformat": 4,
 "nbformat_minor": 2
}
